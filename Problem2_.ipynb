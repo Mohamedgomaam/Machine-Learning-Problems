{
  "cells": [
    {
      "cell_type": "code",
      "execution_count": null,
      "metadata": {
        "colab": {
          "base_uri": "https://localhost:8080/",
          "height": 206
        },
        "id": "GBENejEkZcoN",
        "outputId": "cd0b6723-1b0c-4874-b47e-20b00195687b"
      },
      "outputs": [
        {
          "data": {
            "text/html": [
              "<div>\n",
              "<style scoped>\n",
              "    .dataframe tbody tr th:only-of-type {\n",
              "        vertical-align: middle;\n",
              "    }\n",
              "\n",
              "    .dataframe tbody tr th {\n",
              "        vertical-align: top;\n",
              "    }\n",
              "\n",
              "    .dataframe thead th {\n",
              "        text-align: right;\n",
              "    }\n",
              "</style>\n",
              "<table border=\"1\" class=\"dataframe\">\n",
              "  <thead>\n",
              "    <tr style=\"text-align: right;\">\n",
              "      <th></th>\n",
              "      <th>Id</th>\n",
              "      <th>Age</th>\n",
              "      <th>Sex</th>\n",
              "      <th>ChestPain</th>\n",
              "      <th>RestBP</th>\n",
              "      <th>Chol</th>\n",
              "      <th>Fbs</th>\n",
              "      <th>RestECG</th>\n",
              "      <th>MaxHR</th>\n",
              "      <th>ExAng</th>\n",
              "      <th>Oldpeak</th>\n",
              "      <th>Slope</th>\n",
              "      <th>Ca</th>\n",
              "      <th>Thal</th>\n",
              "      <th>AHD</th>\n",
              "    </tr>\n",
              "  </thead>\n",
              "  <tbody>\n",
              "    <tr>\n",
              "      <th>0</th>\n",
              "      <td>1</td>\n",
              "      <td>63</td>\n",
              "      <td>1</td>\n",
              "      <td>1</td>\n",
              "      <td>145</td>\n",
              "      <td>233</td>\n",
              "      <td>1</td>\n",
              "      <td>2</td>\n",
              "      <td>150</td>\n",
              "      <td>0</td>\n",
              "      <td>2.3</td>\n",
              "      <td>3</td>\n",
              "      <td>0</td>\n",
              "      <td>0</td>\n",
              "      <td>0</td>\n",
              "    </tr>\n",
              "    <tr>\n",
              "      <th>1</th>\n",
              "      <td>2</td>\n",
              "      <td>67</td>\n",
              "      <td>1</td>\n",
              "      <td>2</td>\n",
              "      <td>160</td>\n",
              "      <td>286</td>\n",
              "      <td>0</td>\n",
              "      <td>2</td>\n",
              "      <td>108</td>\n",
              "      <td>1</td>\n",
              "      <td>1.5</td>\n",
              "      <td>2</td>\n",
              "      <td>3</td>\n",
              "      <td>1</td>\n",
              "      <td>1</td>\n",
              "    </tr>\n",
              "    <tr>\n",
              "      <th>2</th>\n",
              "      <td>3</td>\n",
              "      <td>67</td>\n",
              "      <td>1</td>\n",
              "      <td>2</td>\n",
              "      <td>120</td>\n",
              "      <td>229</td>\n",
              "      <td>0</td>\n",
              "      <td>2</td>\n",
              "      <td>129</td>\n",
              "      <td>1</td>\n",
              "      <td>2.6</td>\n",
              "      <td>2</td>\n",
              "      <td>2</td>\n",
              "      <td>2</td>\n",
              "      <td>1</td>\n",
              "    </tr>\n",
              "    <tr>\n",
              "      <th>3</th>\n",
              "      <td>4</td>\n",
              "      <td>37</td>\n",
              "      <td>1</td>\n",
              "      <td>3</td>\n",
              "      <td>130</td>\n",
              "      <td>250</td>\n",
              "      <td>0</td>\n",
              "      <td>0</td>\n",
              "      <td>187</td>\n",
              "      <td>0</td>\n",
              "      <td>3.5</td>\n",
              "      <td>3</td>\n",
              "      <td>0</td>\n",
              "      <td>1</td>\n",
              "      <td>0</td>\n",
              "    </tr>\n",
              "    <tr>\n",
              "      <th>4</th>\n",
              "      <td>5</td>\n",
              "      <td>41</td>\n",
              "      <td>0</td>\n",
              "      <td>0</td>\n",
              "      <td>130</td>\n",
              "      <td>204</td>\n",
              "      <td>0</td>\n",
              "      <td>2</td>\n",
              "      <td>172</td>\n",
              "      <td>0</td>\n",
              "      <td>1.4</td>\n",
              "      <td>1</td>\n",
              "      <td>0</td>\n",
              "      <td>1</td>\n",
              "      <td>0</td>\n",
              "    </tr>\n",
              "  </tbody>\n",
              "</table>\n",
              "</div>"
            ],
            "text/plain": [
              "   Id  Age  Sex  ChestPain  RestBP  Chol  Fbs  RestECG  MaxHR  ExAng  Oldpeak  \\\n",
              "0   1   63    1          1     145   233    1        2    150      0      2.3   \n",
              "1   2   67    1          2     160   286    0        2    108      1      1.5   \n",
              "2   3   67    1          2     120   229    0        2    129      1      2.6   \n",
              "3   4   37    1          3     130   250    0        0    187      0      3.5   \n",
              "4   5   41    0          0     130   204    0        2    172      0      1.4   \n",
              "\n",
              "   Slope  Ca  Thal  AHD  \n",
              "0      3   0     0    0  \n",
              "1      2   3     1    1  \n",
              "2      2   2     2    1  \n",
              "3      3   0     1    0  \n",
              "4      1   0     1    0  "
            ]
          },
          "execution_count": 1,
          "metadata": {},
          "output_type": "execute_result"
        }
      ],
      "source": [
        "import numpy as np\n",
        "import pandas as pd\n",
        "import seaborn as sns\n",
        "import matplotlib.pyplot as plt\n",
        "from sklearn.preprocessing import scale\n",
        "from sklearn.decomposition import PCA\n",
        "from sklearn.cluster import KMeans\n",
        "from sklearn.preprocessing import MinMaxScaler\n",
        "from sklearn.manifold import TSNE\n",
        "import plotly.express as px\n",
        "from sklearn.preprocessing import StandardScaler\n",
        "from sklearn.cluster import KMeans\n",
        "from scipy.spatial.distance import cdist\n",
        "from sklearn.decomposition import PCA\n",
        "from sklearn import decomposition\n",
        "\n",
        "data = pd.read_csv('C:/Users/DELL G3/Desktop/machine learning/classification/Heart.csv')\n",
        "data.head()\n"
      ]
    },
    {
      "cell_type": "code",
      "execution_count": null,
      "metadata": {
        "colab": {
          "base_uri": "https://localhost:8080/",
          "height": 207
        },
        "id": "knRSlkICIh21",
        "outputId": "0338d43c-cb2d-48a6-815e-25c1607e0631"
      },
      "outputs": [
        {
          "data": {
            "text/html": [
              "<div>\n",
              "<style scoped>\n",
              "    .dataframe tbody tr th:only-of-type {\n",
              "        vertical-align: middle;\n",
              "    }\n",
              "\n",
              "    .dataframe tbody tr th {\n",
              "        vertical-align: top;\n",
              "    }\n",
              "\n",
              "    .dataframe thead th {\n",
              "        text-align: right;\n",
              "    }\n",
              "</style>\n",
              "<table border=\"1\" class=\"dataframe\">\n",
              "  <thead>\n",
              "    <tr style=\"text-align: right;\">\n",
              "      <th></th>\n",
              "      <th>Age</th>\n",
              "      <th>Sex</th>\n",
              "      <th>ChestPain</th>\n",
              "      <th>RestBP</th>\n",
              "      <th>Chol</th>\n",
              "      <th>Fbs</th>\n",
              "      <th>RestECG</th>\n",
              "      <th>MaxHR</th>\n",
              "      <th>ExAng</th>\n",
              "      <th>Oldpeak</th>\n",
              "      <th>Slope</th>\n",
              "      <th>Ca</th>\n",
              "      <th>Thal</th>\n",
              "      <th>AHD</th>\n",
              "    </tr>\n",
              "  </thead>\n",
              "  <tbody>\n",
              "    <tr>\n",
              "      <th>0</th>\n",
              "      <td>63</td>\n",
              "      <td>1</td>\n",
              "      <td>1</td>\n",
              "      <td>145</td>\n",
              "      <td>233</td>\n",
              "      <td>1</td>\n",
              "      <td>2</td>\n",
              "      <td>150</td>\n",
              "      <td>0</td>\n",
              "      <td>2.3</td>\n",
              "      <td>3</td>\n",
              "      <td>0</td>\n",
              "      <td>0</td>\n",
              "      <td>0</td>\n",
              "    </tr>\n",
              "    <tr>\n",
              "      <th>1</th>\n",
              "      <td>67</td>\n",
              "      <td>1</td>\n",
              "      <td>2</td>\n",
              "      <td>160</td>\n",
              "      <td>286</td>\n",
              "      <td>0</td>\n",
              "      <td>2</td>\n",
              "      <td>108</td>\n",
              "      <td>1</td>\n",
              "      <td>1.5</td>\n",
              "      <td>2</td>\n",
              "      <td>3</td>\n",
              "      <td>1</td>\n",
              "      <td>1</td>\n",
              "    </tr>\n",
              "    <tr>\n",
              "      <th>2</th>\n",
              "      <td>67</td>\n",
              "      <td>1</td>\n",
              "      <td>2</td>\n",
              "      <td>120</td>\n",
              "      <td>229</td>\n",
              "      <td>0</td>\n",
              "      <td>2</td>\n",
              "      <td>129</td>\n",
              "      <td>1</td>\n",
              "      <td>2.6</td>\n",
              "      <td>2</td>\n",
              "      <td>2</td>\n",
              "      <td>2</td>\n",
              "      <td>1</td>\n",
              "    </tr>\n",
              "    <tr>\n",
              "      <th>3</th>\n",
              "      <td>37</td>\n",
              "      <td>1</td>\n",
              "      <td>3</td>\n",
              "      <td>130</td>\n",
              "      <td>250</td>\n",
              "      <td>0</td>\n",
              "      <td>0</td>\n",
              "      <td>187</td>\n",
              "      <td>0</td>\n",
              "      <td>3.5</td>\n",
              "      <td>3</td>\n",
              "      <td>0</td>\n",
              "      <td>1</td>\n",
              "      <td>0</td>\n",
              "    </tr>\n",
              "    <tr>\n",
              "      <th>4</th>\n",
              "      <td>41</td>\n",
              "      <td>0</td>\n",
              "      <td>0</td>\n",
              "      <td>130</td>\n",
              "      <td>204</td>\n",
              "      <td>0</td>\n",
              "      <td>2</td>\n",
              "      <td>172</td>\n",
              "      <td>0</td>\n",
              "      <td>1.4</td>\n",
              "      <td>1</td>\n",
              "      <td>0</td>\n",
              "      <td>1</td>\n",
              "      <td>0</td>\n",
              "    </tr>\n",
              "  </tbody>\n",
              "</table>\n",
              "</div>"
            ],
            "text/plain": [
              "   Age  Sex  ChestPain  RestBP  Chol  Fbs  RestECG  MaxHR  ExAng  Oldpeak  \\\n",
              "0   63    1          1     145   233    1        2    150      0      2.3   \n",
              "1   67    1          2     160   286    0        2    108      1      1.5   \n",
              "2   67    1          2     120   229    0        2    129      1      2.6   \n",
              "3   37    1          3     130   250    0        0    187      0      3.5   \n",
              "4   41    0          0     130   204    0        2    172      0      1.4   \n",
              "\n",
              "   Slope  Ca  Thal  AHD  \n",
              "0      3   0     0    0  \n",
              "1      2   3     1    1  \n",
              "2      2   2     2    1  \n",
              "3      3   0     1    0  \n",
              "4      1   0     1    0  "
            ]
          },
          "execution_count": 2,
          "metadata": {},
          "output_type": "execute_result"
        }
      ],
      "source": [
        "data.drop(['Id'], axis=1, inplace=True)\n",
        "data.head()"
      ]
    },
    {
      "cell_type": "code",
      "execution_count": null,
      "metadata": {
        "id": "FagmB2i6Ihx9",
        "outputId": "6e1a6b76-4377-4125-e8c3-17334c4dea69"
      },
      "outputs": [
        {
          "data": {
            "image/png": "[encoded data removed]",
            "text/plain": [
              "<Figure size 640x480 with 1 Axes>"
            ]
          },
          "metadata": {},
          "output_type": "display_data"
        }
      ],
      "source": [
        "\n",
        "clustering_kmeans = KMeans(n_clusters=2)\n",
        "data['clusters'] = clustering_kmeans.fit_predict(data)\n",
        "\n",
        "\n",
        "pca_num_components = 2\n",
        "reduced_data = PCA(n_components=pca_num_components).fit_transform(data)\n",
        "results = pd.DataFrame(reduced_data,columns=['pca1','pca2'])\n",
        "\n",
        "sns.scatterplot(x=\"pca1\", y=\"pca2\", hue=data['clusters'], data=results)\n",
        "plt.title('K-means Clustering with 2 dimensions')\n",
        "plt.show()\n",
        "\n"
      ]
    },
    {
      "cell_type": "code",
      "execution_count": null,
      "metadata": {
        "id": "3bqlEP5QzFYk",
        "outputId": "08167738-a130-4108-e549-e5da4c1ac066"
      },
      "outputs": [
        {
          "name": "stdout",
          "output_type": "stream",
          "text": [
            "(303, 2)\n"
          ]
        },
        {
          "data": {
            "application/vnd.plotly.v1+json": {
              "config": {
                "plotlyServerURL": "https://plot.ly"
              },
              "data": [
                {
                  "hovertemplate": "0=%{x}<br>1=%{y}<extra></extra>",
                  "legendgroup": "",
                  "marker": {
                    "color": "#636efa",
                    "symbol": "circle"
                  },
                  "mode": "markers",
                  "name": "",
                  "orientation": "v",
                  "showlegend": false,
                  "type": "scatter",
                  "x": [
                    -12.667293120557284,
                    41.3063938836941,
                    -17.681032917408288,
                    2.3989815846717666,
                    -43.291050803808346,
                    -11.317205483809872,
                    21.948349585857983,
                    106.5447330855508,
                    7.547142625008636,
                    -43.256649571306184,
                    -54.06696410512108,
                    47.68309824407902,
                    9.291435429062714,
                    15.19223478070559,
                    -45.709057143404166,
                    -77.6082901076503,
                    -19.075270921741733,
                    -7.32223374764831,
                    27.955636067369245,
                    18.890205624648363,
                    -36.32679118369128,
                    37.25334958703471,
                    36.74442866697925,
                    -22.575833067278886,
                    -40.40939888510558,
                    -28.43406251324012,
                    92.57705345120581,
                    -19.15385890540017,
                    0.7025442050040144,
                    -81.04313673617426,
                    -6.706366537769202,
                    -17.227828284699356,
                    88.87879808406956,
                    -12.37607332688816,
                    -14.270159520605468,
                    -20.82540484115179,
                    -70.4657881138291,
                    30.41768953393084,
                    106.19449900650004,
                    -2.469822980816897,
                    -20.17795494242179,
                    -47.84396449250973,
                    57.2142164778418,
                    -33.5579534171241,
                    83.23609340304262,
                    -17.570114093240274,
                    -72.68124559531812,
                    -2.8491724250792743,
                    170.76284528023683,
                    -49.74188215968078,
                    -50.53181460450622,
                    -69.7066268910849,
                    41.817247531217966,
                    -28.270258354136452,
                    6.439164328296671,
                    19.025543618978222,
                    -13.471771749939961,
                    -76.1833073061486,
                    25.89602259720418,
                    -34.000317984516386,
                    58.001010564360655,
                    -69.39152575362593,
                    -30.602324813806778,
                    57.26209040375353,
                    -59.04632027413253,
                    36.1613763069526,
                    -60.95212863430662,
                    -13.81381763769405,
                    81.29869821053367,
                    -15.055603439311636,
                    23.849393439630283,
                    7.382149863340241,
                    20.161152128536497,
                    0.584971025648582,
                    -51.18984715491096,
                    114.9100165539287,
                    11.203278394151395,
                    61.50642386880214,
                    -2.1398018213071683,
                    24.472112438320273,
                    -40.36652419156013,
                    17.16191202767368,
                    73.8630779617437,
                    30.216590377178946,
                    77.37520122391912,
                    -11.767711644354337,
                    10.291552402899745,
                    -30.740914145694852,
                    -12.444190320711943,
                    9.072184525688517,
                    55.04646521751658,
                    -80.77359649329475,
                    -15.443354129523385,
                    -107.17477811541602,
                    5.706552787867606,
                    7.961358486937655,
                    -8.565844607701441,
                    12.407677521222398,
                    -45.61526615263755,
                    -25.518572086665706,
                    11.938564570328433,
                    -66.13096840306144,
                    56.07564249234463,
                    17.8923608122815,
                    -59.33145628289756,
                    60.9399839456874,
                    -69.00757459416312,
                    -17.74501291732018,
                    12.983235748423507,
                    -28.890643143122755,
                    61.12936436583234,
                    2.0472029030647803,
                    -61.508844960296116,
                    93.75209806592376,
                    16.680494628857446,
                    -43.897159371082175,
                    -35.12422304125328,
                    -64.11836155187177,
                    83.45925972547215,
                    7.953093690367647,
                    8.956598648542997,
                    161.23125859975596,
                    -26.3564885736028,
                    -29.047101488376413,
                    35.8748715827818,
                    -13.211327234254739,
                    44.80826978626307,
                    -8.702545200189148,
                    -27.716002489825435,
                    -37.77165470646681,
                    10.68496667901527,
                    -21.70969097602139,
                    -43.86810528536652,
                    14.432604776151662,
                    -34.61754995547458,
                    3.445706618932494,
                    -71.18638214403354,
                    34.120655687891514,
                    -49.86151238753324,
                    -2.2209692123140496,
                    -25.109513374179567,
                    43.300907959485706,
                    -42.02672295604388,
                    62.280166359350446,
                    -7.906931757283393,
                    -5.184472035177293,
                    44.108085694981064,
                    1.6702163744682217,
                    60.55903796352176,
                    69.83764227435293,
                    52.02537769883887,
                    16.403492592789274,
                    316.2641615471675,
                    43.69653975203824,
                    -0.710228098617577,
                    75.83025433601429,
                    52.400141615015876,
                    52.925374048064086,
                    46.77873409440696,
                    30.07061312201851,
                    -51.49729471830707,
                    57.682314872214306,
                    -33.774843221769,
                    -0.05472523597124916,
                    7.5532098112143595,
                    -39.575081517471894,
                    -23.49651250230049,
                    41.19335073189126,
                    34.18282529522284,
                    -87.83586187459733,
                    24.433760575149083,
                    -20.04212561888395,
                    4.630893802141143,
                    147.6932091025831,
                    -33.51367998874432,
                    28.608515729272153,
                    -14.94765428164909,
                    -62.319076701213476,
                    67.59690800197333,
                    -0.9174089551752347,
                    26.559996831373034,
                    162.16216931144356,
                    -2.447600385855343,
                    25.7980475620311,
                    59.6922672973118,
                    -50.95388891382005,
                    -7.921685186971737,
                    1.288319635225976,
                    39.09551559100019,
                    8.290630425296639,
                    -50.95501024196736,
                    51.6024793354307,
                    -0.0877004708062158,
                    47.99026352172656,
                    -35.55812585791749,
                    51.18514361878259,
                    -10.61039819431159,
                    -10.72465712859235,
                    -3.501773547085738,
                    27.95389463592953,
                    5.99013535212118,
                    80.9343981815308,
                    -119.51707191720202,
                    67.01996617803584,
                    -37.2055116419427,
                    62.35821603577563,
                    12.319252942012067,
                    -46.05743163880395,
                    15.188310927690921,
                    -1.494575360079149,
                    -32.97204610586541,
                    -17.00733272334543,
                    -33.29700123090751,
                    -15.932211670228517,
                    -17.79230507196694,
                    -54.15969113571557,
                    -44.36902103969039,
                    -3.700877767703305,
                    56.5819814857181,
                    24.632801372388382,
                    19.675745791095103,
                    18.993404435565214,
                    -50.20833469788406,
                    34.951344971155926,
                    21.327714723502826,
                    -38.260503505195956,
                    -43.86955238980954,
                    31.66905092013713,
                    -41.56434646296043,
                    -35.105006686074326,
                    -50.538884098620855,
                    82.73187255242681,
                    -98.29880102450161,
                    22.537878029865155,
                    -44.24351439422533,
                    38.859404943753155,
                    36.39030416915614,
                    1.4086159431360392,
                    24.116742523806703,
                    47.090211035929194,
                    -13.302826197792248,
                    58.33004496508978,
                    21.91569042656128,
                    -12.283593179564775,
                    -68.73438876887714,
                    -9.493013842796948,
                    -14.159796830208018,
                    26.99567126936254,
                    -35.125510869137194,
                    -38.47676149214914,
                    -46.51495178442327,
                    -27.611461421801817,
                    16.62280866592804,
                    47.464518131270374,
                    54.79024382679295,
                    -38.77897043897813,
                    -24.433845929789147,
                    -48.22031265659269,
                    0.1561155674861407,
                    14.018978333114388,
                    -5.77853087966752,
                    72.5135495178105,
                    -5.629310276112882,
                    -21.723886690693348,
                    -79.85992326261267,
                    67.99887313361717,
                    -42.914813759228785,
                    -28.692417663288712,
                    -23.30007671652987,
                    -67.13000280335359,
                    -38.893355298207865,
                    -16.73952695521577,
                    64.38662375735667,
                    -97.76355834864695,
                    -42.364699322873584,
                    -17.37416912684161,
                    32.407646811800966,
                    -26.929434451237704,
                    -13.493572926324042,
                    -49.476799984715385,
                    87.15875437354858,
                    5.802891129528656,
                    -41.69662290965156,
                    -55.91816567881403,
                    -42.57730173538488,
                    70.45180528372866,
                    -19.558370172533543,
                    -26.821482479573728,
                    -25.718769751327642,
                    -7.292526903627728,
                    -33.11618066169329,
                    95.08659080819425,
                    -78.50903389563072,
                    -58.79370197288395,
                    -49.60563936018153,
                    -90.74678454797481,
                    -68.51595661234062,
                    -5.069180365343314,
                    15.88051533935999,
                    -52.4087267707368,
                    -115.31640108911564,
                    -10.748811950725194,
                    -71.95050648316187
                  ],
                  "xaxis": "x",
                  "y": [
                    2.7981738542907117,
                    45.33391944817537,
                    21.527984996092304,
                    -39.883100599744424,
                    -23.83044896779869,
                    -28.568039984371826,
                    -8.17883780266142,
                    -15.601289838004977,
                    3.822498300256215,
                    -3.8960631984160417,
                    3.753818116154304,
                    -2.931678403652749,
                    7.406134725369132,
                    -26.289942619254408,
                    -7.577702842227789,
                    -20.20271310550799,
                    -21.14082536831467,
                    -9.263266832261982,
                    8.539729890900453,
                    -22.42167267409502,
                    5.5083616694409425,
                    -10.149246189335123,
                    -11.335030638590013,
                    -21.763313749515095,
                    18.747731338355777,
                    -9.789737133494823,
                    -24.00536324058623,
                    39.16338989140165,
                    -21.073281746718095,
                    31.223201256378356,
                    2.2683740110523383,
                    -10.406898264549687,
                    -7.0458182848269395,
                    -9.781855709566507,
                    -30.595860225340857,
                    -28.83692449072899,
                    26.80024424302493,
                    38.686382284115645,
                    15.659616793225366,
                    15.488808960718876,
                    39.0188465987926,
                    -28.735111674930522,
                    -7.058472889784839,
                    -3.9306535289807845,
                    -19.308323125488613,
                    -16.15534686670261,
                    24.22702739611728,
                    22.33433634444356,
                    -7.178655971969762,
                    -1.9669064050516247,
                    -22.474671555757574,
                    11.152496972302941,
                    -7.978943767065142,
                    -39.19185990295158,
                    6.217797235142368,
                    38.53964991634246,
                    -12.792967998958712,
                    -11.735983773365307,
                    -3.5301414350084226,
                    23.268916286741526,
                    5.710832210528705,
                    -9.458662564199432,
                    19.000669173666097,
                    -20.618775722774597,
                    35.4277372326119,
                    9.34118005905107,
                    -2.3608626255203977,
                    -12.962538766799712,
                    13.036851114490961,
                    3.2458094866966634,
                    5.547945538749485,
                    -11.63750620516426,
                    49.31756128486992,
                    -8.59396834936795,
                    -30.15808001322346,
                    1.6904227275008523,
                    8.590473352226036,
                    6.713695658416284,
                    -31.05307878710841,
                    39.92941699031293,
                    -2.388023190985631,
                    5.725992465559698,
                    -34.795160458496206,
                    6.73663868606175,
                    -24.861449443763277,
                    -30.560761319037162,
                    -7.124170868492959,
                    33.645116418550366,
                    -9.588001127341842,
                    -0.376573542404533,
                    -1.40480394908513,
                    10.310187762468235,
                    5.005366485870589,
                    -27.517776936418276,
                    -20.108901730378374,
                    -12.110321496913999,
                    6.129516360475398,
                    -4.421550339672713,
                    -7.698875603794132,
                    -37.391951667775444,
                    -38.30137804154667,
                    -27.976454039826407,
                    -10.03227860077833,
                    19.564672846917677,
                    9.1504757189384,
                    -9.866766482159635,
                    -9.311592415973685,
                    -0.014855571805789568,
                    9.196979085070582,
                    5.606959951102632,
                    5.156446748617732,
                    5.046272422369512,
                    -40.42097121340301,
                    9.804367655497698,
                    52.36329024870517,
                    15.781921666431177,
                    -12.98590383327684,
                    -33.507298588204335,
                    17.29388906324131,
                    24.28242108759996,
                    -1.867528911012091,
                    -3.3005924785947878,
                    2.903023131601005,
                    39.28258619072106,
                    -21.82057540852081,
                    -26.525183590851334,
                    23.131340161062436,
                    20.88536622228357,
                    -22.673898500055202,
                    -11.973594399212892,
                    1.0496902050411543,
                    -8.576994315190017,
                    -55.34414346340108,
                    -35.573686629982305,
                    -17.6145178159928,
                    -10.752122578192708,
                    29.469234725492306,
                    45.15454963276818,
                    15.220213813610739,
                    -17.295826908043942,
                    -12.006781280145459,
                    -5.005665369194681,
                    -33.830918788656014,
                    18.23794312204905,
                    -6.346499713689607,
                    -6.142254076560559,
                    28.353967511114256,
                    -33.31682541772381,
                    -23.052818295784565,
                    -13.443504940862693,
                    -26.891848694474078,
                    21.309488797791076,
                    -14.717529093383646,
                    6.923490157585487,
                    52.95704179239464,
                    41.176630121425035,
                    -23.443879114287103,
                    -21.823586276235368,
                    -18.764274011254127,
                    -0.840931833254435,
                    -10.253465386376572,
                    -9.644350222652848,
                    -10.038157857728818,
                    24.26639318836426,
                    -26.939677699981775,
                    -16.879116172625494,
                    -18.35787062384885,
                    -9.916767121022756,
                    -10.93699831049523,
                    8.914441480131204,
                    42.24282386367064,
                    38.86517610440636,
                    11.673556786316812,
                    -7.351249026393109,
                    20.92925778574361,
                    62.39537666727641,
                    -0.16866156852327102,
                    44.95540666249845,
                    -15.442779527094851,
                    -23.2877590360525,
                    -18.433253302292812,
                    -2.4099107548662553,
                    -28.246141771265776,
                    9.880382495896495,
                    -8.325977700518626,
                    -25.515179217564864,
                    -46.757266085660596,
                    34.013435975145235,
                    -38.7117661928796,
                    6.972883319543463,
                    -13.400299666584177,
                    26.50945505012321,
                    4.448851727083691,
                    43.936121084343974,
                    35.62436958389164,
                    22.181818801265386,
                    23.977311516856272,
                    -3.224154704352202,
                    -14.136953583232202,
                    27.39833563245364,
                    -12.415966134527359,
                    1.2199823909617902,
                    -18.562388071467982,
                    17.738884548528976,
                    -14.94973614391021,
                    0.9574929477840546,
                    19.294447777824356,
                    24.325066935068435,
                    -5.646164905544963,
                    -0.9532620821221134,
                    -23.841456018326852,
                    -35.558490068413874,
                    -20.04177968403631,
                    -7.76457345739332,
                    -12.424514946533295,
                    -12.192656595045612,
                    -25.5883322082432,
                    -3.1593692742927337,
                    27.65503360662659,
                    -30.597295139302698,
                    -26.746260246682116,
                    -19.923253754221165,
                    -34.753001643007806,
                    51.6800893380849,
                    -20.21757506534591,
                    -46.02105380122892,
                    3.6869608928572806,
                    -17.995595623308446,
                    38.962590318609394,
                    17.77756036556754,
                    -18.148176388823575,
                    35.81107211362319,
                    22.244950321425318,
                    29.88333235128885,
                    -9.489832204010089,
                    31.192478623146762,
                    45.11255788866289,
                    2.681477057944139,
                    -13.285986880174578,
                    -16.4160506185267,
                    -7.891373254605644,
                    -17.120671189725805,
                    -14.650553465034188,
                    6.1722496358365175,
                    53.23420508509263,
                    78.01967830422423,
                    -8.751558275564738,
                    26.838238934660623,
                    -18.556748104567482,
                    10.941145700997541,
                    21.986618233343673,
                    46.23180835258333,
                    44.670580435855534,
                    -9.86799613565462,
                    -35.41641453421949,
                    -25.764019340381118,
                    7.365767599021501,
                    38.407048581185016,
                    11.802954118205616,
                    7.801938254459478,
                    -2.6681536893640287,
                    -2.4166520859498073,
                    -17.90810013054889,
                    -21.775318242770798,
                    27.25972412840642,
                    21.17660143640501,
                    -6.384400050022418,
                    15.968942094986717,
                    -30.80860490462471,
                    -1.7772571931333216,
                    14.068651750517686,
                    16.710089499102494,
                    27.298879909579576,
                    26.533162082153538,
                    -10.36650512942143,
                    0.7807037266282095,
                    0.743920467534196,
                    -4.0648726790345275,
                    -11.052178869239041,
                    19.425111913602805,
                    3.2780061417685475,
                    -30.38943495384066,
                    19.582296727109373,
                    -27.549837542490422,
                    -7.556584792521865,
                    7.1311429362218215,
                    8.602554203331369,
                    5.846128718078439,
                    -12.6182474580022,
                    -19.829060589950135,
                    4.582552667087895,
                    -17.44946585401997,
                    3.6524045637694003,
                    8.934642200240324,
                    14.816471024615794,
                    -33.93444350310707,
                    63.6339151781606,
                    27.422073092153397,
                    12.944080573837601,
                    13.078389013791076,
                    35.98367569205306,
                    -23.403262123727323,
                    -24.026377012135743
                  ],
                  "yaxis": "y"
                }
              ],
              "layout": {
                "legend": {
                  "tracegroupgap": 0
                },
                "margin": {
                  "t": 60
                },
                "template": {
                  "data": {
                    "bar": [
                      {
                        "error_x": {
                          "color": "#2a3f5f"
                        },
                        "error_y": {
                          "color": "#2a3f5f"
                        },
                        "marker": {
                          "line": {
                            "color": "#E5ECF6",
                            "width": 0.5
                          },
                          "pattern": {
                            "fillmode": "overlay",
                            "size": 10,
                            "solidity": 0.2
                          }
                        },
                        "type": "bar"
                      }
                    ],
                    "barpolar": [
                      {
                        "marker": {
                          "line": {
                            "color": "#E5ECF6",
                            "width": 0.5
                          },
                          "pattern": {
                            "fillmode": "overlay",
                            "size": 10,
                            "solidity": 0.2
                          }
                        },
                        "type": "barpolar"
                      }
                    ],
                    "carpet": [
                      {
                        "aaxis": {
                          "endlinecolor": "#2a3f5f",
                          "gridcolor": "white",
                          "linecolor": "white",
                          "minorgridcolor": "white",
                          "startlinecolor": "#2a3f5f"
                        },
                        "baxis": {
                          "endlinecolor": "#2a3f5f",
                          "gridcolor": "white",
                          "linecolor": "white",
                          "minorgridcolor": "white",
                          "startlinecolor": "#2a3f5f"
                        },
                        "type": "carpet"
                      }
                    ],
                    "choropleth": [
                      {
                        "colorbar": {
                          "outlinewidth": 0,
                          "ticks": ""
                        },
                        "type": "choropleth"
                      }
                    ],
                    "contour": [
                      {
                        "colorbar": {
                          "outlinewidth": 0,
                          "ticks": ""
                        },
                        "colorscale": [
                          [
                            0,
                            "#0d0887"
                          ],
                          [
                            0.1111111111111111,
                            "#46039f"
                          ],
                          [
                            0.2222222222222222,
                            "#7201a8"
                          ],
                          [
                            0.3333333333333333,
                            "#9c179e"
                          ],
                          [
                            0.4444444444444444,
                            "#bd3786"
                          ],
                          [
                            0.5555555555555556,
                            "#d8576b"
                          ],
                          [
                            0.6666666666666666,
                            "#ed7953"
                          ],
                          [
                            0.7777777777777778,
                            "#fb9f3a"
                          ],
                          [
                            0.8888888888888888,
                            "#fdca26"
                          ],
                          [
                            1,
                            "#f0f921"
                          ]
                        ],
                        "type": "contour"
                      }
                    ],
                    "contourcarpet": [
                      {
                        "colorbar": {
                          "outlinewidth": 0,
                          "ticks": ""
                        },
                        "type": "contourcarpet"
                      }
                    ],
                    "heatmap": [
                      {
                        "colorbar": {
                          "outlinewidth": 0,
                          "ticks": ""
                        },
                        "colorscale": [
                          [
                            0,
                            "#0d0887"
                          ],
                          [
                            0.1111111111111111,
                            "#46039f"
                          ],
                          [
                            0.2222222222222222,
                            "#7201a8"
                          ],
                          [
                            0.3333333333333333,
                            "#9c179e"
                          ],
                          [
                            0.4444444444444444,
                            "#bd3786"
                          ],
                          [
                            0.5555555555555556,
                            "#d8576b"
                          ],
                          [
                            0.6666666666666666,
                            "#ed7953"
                          ],
                          [
                            0.7777777777777778,
                            "#fb9f3a"
                          ],
                          [
                            0.8888888888888888,
                            "#fdca26"
                          ],
                          [
                            1,
                            "#f0f921"
                          ]
                        ],
                        "type": "heatmap"
                      }
                    ],
                    "heatmapgl": [
                      {
                        "colorbar": {
                          "outlinewidth": 0,
                          "ticks": ""
                        },
                        "colorscale": [
                          [
                            0,
                            "#0d0887"
                          ],
                          [
                            0.1111111111111111,
                            "#46039f"
                          ],
                          [
                            0.2222222222222222,
                            "#7201a8"
                          ],
                          [
                            0.3333333333333333,
                            "#9c179e"
                          ],
                          [
                            0.4444444444444444,
                            "#bd3786"
                          ],
                          [
                            0.5555555555555556,
                            "#d8576b"
                          ],
                          [
                            0.6666666666666666,
                            "#ed7953"
                          ],
                          [
                            0.7777777777777778,
                            "#fb9f3a"
                          ],
                          [
                            0.8888888888888888,
                            "#fdca26"
                          ],
                          [
                            1,
                            "#f0f921"
                          ]
                        ],
                        "type": "heatmapgl"
                      }
                    ],
                    "histogram": [
                      {
                        "marker": {
                          "pattern": {
                            "fillmode": "overlay",
                            "size": 10,
                            "solidity": 0.2
                          }
                        },
                        "type": "histogram"
                      }
                    ],
                    "histogram2d": [
                      {
                        "colorbar": {
                          "outlinewidth": 0,
                          "ticks": ""
                        },
                        "colorscale": [
                          [
                            0,
                            "#0d0887"
                          ],
                          [
                            0.1111111111111111,
                            "#46039f"
                          ],
                          [
                            0.2222222222222222,
                            "#7201a8"
                          ],
                          [
                            0.3333333333333333,
                            "#9c179e"
                          ],
                          [
                            0.4444444444444444,
                            "#bd3786"
                          ],
                          [
                            0.5555555555555556,
                            "#d8576b"
                          ],
                          [
                            0.6666666666666666,
                            "#ed7953"
                          ],
                          [
                            0.7777777777777778,
                            "#fb9f3a"
                          ],
                          [
                            0.8888888888888888,
                            "#fdca26"
                          ],
                          [
                            1,
                            "#f0f921"
                          ]
                        ],
                        "type": "histogram2d"
                      }
                    ],
                    "histogram2dcontour": [
                      {
                        "colorbar": {
                          "outlinewidth": 0,
                          "ticks": ""
                        },
                        "colorscale": [
                          [
                            0,
                            "#0d0887"
                          ],
                          [
                            0.1111111111111111,
                            "#46039f"
                          ],
                          [
                            0.2222222222222222,
                            "#7201a8"
                          ],
                          [
                            0.3333333333333333,
                            "#9c179e"
                          ],
                          [
                            0.4444444444444444,
                            "#bd3786"
                          ],
                          [
                            0.5555555555555556,
                            "#d8576b"
                          ],
                          [
                            0.6666666666666666,
                            "#ed7953"
                          ],
                          [
                            0.7777777777777778,
                            "#fb9f3a"
                          ],
                          [
                            0.8888888888888888,
                            "#fdca26"
                          ],
                          [
                            1,
                            "#f0f921"
                          ]
                        ],
                        "type": "histogram2dcontour"
                      }
                    ],
                    "mesh3d": [
                      {
                        "colorbar": {
                          "outlinewidth": 0,
                          "ticks": ""
                        },
                        "type": "mesh3d"
                      }
                    ],
                    "parcoords": [
                      {
                        "line": {
                          "colorbar": {
                            "outlinewidth": 0,
                            "ticks": ""
                          }
                        },
                        "type": "parcoords"
                      }
                    ],
                    "pie": [
                      {
                        "automargin": true,
                        "type": "pie"
                      }
                    ],
                    "scatter": [
                      {
                        "fillpattern": {
                          "fillmode": "overlay",
                          "size": 10,
                          "solidity": 0.2
                        },
                        "type": "scatter"
                      }
                    ],
                    "scatter3d": [
                      {
                        "line": {
                          "colorbar": {
                            "outlinewidth": 0,
                            "ticks": ""
                          }
                        },
                        "marker": {
                          "colorbar": {
                            "outlinewidth": 0,
                            "ticks": ""
                          }
                        },
                        "type": "scatter3d"
                      }
                    ],
                    "scattercarpet": [
                      {
                        "marker": {
                          "colorbar": {
                            "outlinewidth": 0,
                            "ticks": ""
                          }
                        },
                        "type": "scattercarpet"
                      }
                    ],
                    "scattergeo": [
                      {
                        "marker": {
                          "colorbar": {
                            "outlinewidth": 0,
                            "ticks": ""
                          }
                        },
                        "type": "scattergeo"
                      }
                    ],
                    "scattergl": [
                      {
                        "marker": {
                          "colorbar": {
                            "outlinewidth": 0,
                            "ticks": ""
                          }
                        },
                        "type": "scattergl"
                      }
                    ],
                    "scattermapbox": [
                      {
                        "marker": {
                          "colorbar": {
                            "outlinewidth": 0,
                            "ticks": ""
                          }
                        },
                        "type": "scattermapbox"
                      }
                    ],
                    "scatterpolar": [
                      {
                        "marker": {
                          "colorbar": {
                            "outlinewidth": 0,
                            "ticks": ""
                          }
                        },
                        "type": "scatterpolar"
                      }
                    ],
                    "scatterpolargl": [
                      {
                        "marker": {
                          "colorbar": {
                            "outlinewidth": 0,
                            "ticks": ""
                          }
                        },
                        "type": "scatterpolargl"
                      }
                    ],
                    "scatterternary": [
                      {
                        "marker": {
                          "colorbar": {
                            "outlinewidth": 0,
                            "ticks": ""
                          }
                        },
                        "type": "scatterternary"
                      }
                    ],
                    "surface": [
                      {
                        "colorbar": {
                          "outlinewidth": 0,
                          "ticks": ""
                        },
                        "colorscale": [
                          [
                            0,
                            "#0d0887"
                          ],
                          [
                            0.1111111111111111,
                            "#46039f"
                          ],
                          [
                            0.2222222222222222,
                            "#7201a8"
                          ],
                          [
                            0.3333333333333333,
                            "#9c179e"
                          ],
                          [
                            0.4444444444444444,
                            "#bd3786"
                          ],
                          [
                            0.5555555555555556,
                            "#d8576b"
                          ],
                          [
                            0.6666666666666666,
                            "#ed7953"
                          ],
                          [
                            0.7777777777777778,
                            "#fb9f3a"
                          ],
                          [
                            0.8888888888888888,
                            "#fdca26"
                          ],
                          [
                            1,
                            "#f0f921"
                          ]
                        ],
                        "type": "surface"
                      }
                    ],
                    "table": [
                      {
                        "cells": {
                          "fill": {
                            "color": "#EBF0F8"
                          },
                          "line": {
                            "color": "white"
                          }
                        },
                        "header": {
                          "fill": {
                            "color": "#C8D4E3"
                          },
                          "line": {
                            "color": "white"
                          }
                        },
                        "type": "table"
                      }
                    ]
                  },
                  "layout": {
                    "annotationdefaults": {
                      "arrowcolor": "#2a3f5f",
                      "arrowhead": 0,
                      "arrowwidth": 1
                    },
                    "autotypenumbers": "strict",
                    "coloraxis": {
                      "colorbar": {
                        "outlinewidth": 0,
                        "ticks": ""
                      }
                    },
                    "colorscale": {
                      "diverging": [
                        [
                          0,
                          "#8e0152"
                        ],
                        [
                          0.1,
                          "#c51b7d"
                        ],
                        [
                          0.2,
                          "#de77ae"
                        ],
                        [
                          0.3,
                          "#f1b6da"
                        ],
                        [
                          0.4,
                          "#fde0ef"
                        ],
                        [
                          0.5,
                          "#f7f7f7"
                        ],
                        [
                          0.6,
                          "#e6f5d0"
                        ],
                        [
                          0.7,
                          "#b8e186"
                        ],
                        [
                          0.8,
                          "#7fbc41"
                        ],
                        [
                          0.9,
                          "#4d9221"
                        ],
                        [
                          1,
                          "#276419"
                        ]
                      ],
                      "sequential": [
                        [
                          0,
                          "#0d0887"
                        ],
                        [
                          0.1111111111111111,
                          "#46039f"
                        ],
                        [
                          0.2222222222222222,
                          "#7201a8"
                        ],
                        [
                          0.3333333333333333,
                          "#9c179e"
                        ],
                        [
                          0.4444444444444444,
                          "#bd3786"
                        ],
                        [
                          0.5555555555555556,
                          "#d8576b"
                        ],
                        [
                          0.6666666666666666,
                          "#ed7953"
                        ],
                        [
                          0.7777777777777778,
                          "#fb9f3a"
                        ],
                        [
                          0.8888888888888888,
                          "#fdca26"
                        ],
                        [
                          1,
                          "#f0f921"
                        ]
                      ],
                      "sequentialminus": [
                        [
                          0,
                          "#0d0887"
                        ],
                        [
                          0.1111111111111111,
                          "#46039f"
                        ],
                        [
                          0.2222222222222222,
                          "#7201a8"
                        ],
                        [
                          0.3333333333333333,
                          "#9c179e"
                        ],
                        [
                          0.4444444444444444,
                          "#bd3786"
                        ],
                        [
                          0.5555555555555556,
                          "#d8576b"
                        ],
                        [
                          0.6666666666666666,
                          "#ed7953"
                        ],
                        [
                          0.7777777777777778,
                          "#fb9f3a"
                        ],
                        [
                          0.8888888888888888,
                          "#fdca26"
                        ],
                        [
                          1,
                          "#f0f921"
                        ]
                      ]
                    },
                    "colorway": [
                      "#636efa",
                      "#EF553B",
                      "#00cc96",
                      "#ab63fa",
                      "#FFA15A",
                      "#19d3f3",
                      "#FF6692",
                      "#B6E880",
                      "#FF97FF",
                      "#FECB52"
                    ],
                    "font": {
                      "color": "#2a3f5f"
                    },
                    "geo": {
                      "bgcolor": "white",
                      "lakecolor": "white",
                      "landcolor": "#E5ECF6",
                      "showlakes": true,
                      "showland": true,
                      "subunitcolor": "white"
                    },
                    "hoverlabel": {
                      "align": "left"
                    },
                    "hovermode": "closest",
                    "mapbox": {
                      "style": "light"
                    },
                    "paper_bgcolor": "white",
                    "plot_bgcolor": "#E5ECF6",
                    "polar": {
                      "angularaxis": {
                        "gridcolor": "white",
                        "linecolor": "white",
                        "ticks": ""
                      },
                      "bgcolor": "#E5ECF6",
                      "radialaxis": {
                        "gridcolor": "white",
                        "linecolor": "white",
                        "ticks": ""
                      }
                    },
                    "scene": {
                      "xaxis": {
                        "backgroundcolor": "#E5ECF6",
                        "gridcolor": "white",
                        "gridwidth": 2,
                        "linecolor": "white",
                        "showbackground": true,
                        "ticks": "",
                        "zerolinecolor": "white"
                      },
                      "yaxis": {
                        "backgroundcolor": "#E5ECF6",
                        "gridcolor": "white",
                        "gridwidth": 2,
                        "linecolor": "white",
                        "showbackground": true,
                        "ticks": "",
                        "zerolinecolor": "white"
                      },
                      "zaxis": {
                        "backgroundcolor": "#E5ECF6",
                        "gridcolor": "white",
                        "gridwidth": 2,
                        "linecolor": "white",
                        "showbackground": true,
                        "ticks": "",
                        "zerolinecolor": "white"
                      }
                    },
                    "shapedefaults": {
                      "line": {
                        "color": "#2a3f5f"
                      }
                    },
                    "ternary": {
                      "aaxis": {
                        "gridcolor": "white",
                        "linecolor": "white",
                        "ticks": ""
                      },
                      "baxis": {
                        "gridcolor": "white",
                        "linecolor": "white",
                        "ticks": ""
                      },
                      "bgcolor": "#E5ECF6",
                      "caxis": {
                        "gridcolor": "white",
                        "linecolor": "white",
                        "ticks": ""
                      }
                    },
                    "title": {
                      "x": 0.05
                    },
                    "xaxis": {
                      "automargin": true,
                      "gridcolor": "white",
                      "linecolor": "white",
                      "ticks": "",
                      "title": {
                        "standoff": 15
                      },
                      "zerolinecolor": "white",
                      "zerolinewidth": 2
                    },
                    "yaxis": {
                      "automargin": true,
                      "gridcolor": "white",
                      "linecolor": "white",
                      "ticks": "",
                      "title": {
                        "standoff": 15
                      },
                      "zerolinecolor": "white",
                      "zerolinewidth": 2
                    }
                  }
                },
                "xaxis": {
                  "anchor": "y",
                  "domain": [
                    0,
                    1
                  ],
                  "title": {
                    "text": "0"
                  }
                },
                "yaxis": {
                  "anchor": "x",
                  "domain": [
                    0,
                    1
                  ],
                  "title": {
                    "text": "1"
                  }
                }
              }
            }
          },
          "metadata": {},
          "output_type": "display_data"
        }
      ],
      "source": [
        "two_pca=decomposition.PCA(n_components=2)\n",
        "two_pca.fit(data)\n",
        "twofeature= two_pca.transform(data)\n",
        "print(twofeature.shape)\n",
        "fig = px.scatter(twofeature, x=0, y=1)\n",
        "fig.show()\n"
      ]
    },
    {
      "cell_type": "code",
      "execution_count": null,
      "metadata": {
        "id": "SbGbR5RVzFYl",
        "outputId": "007cdd19-b535-4fb0-c9ef-8282975a46f9"
      },
      "outputs": [
        {
          "name": "stderr",
          "output_type": "stream",
          "text": [
            "c:\\Users\\DELL G3\\AppData\\Local\\Programs\\Python\\Python310\\lib\\site-packages\\sklearn\\manifold\\_t_sne.py:800: FutureWarning:\n",
            "\n",
            "The default initialization in TSNE will change from 'random' to 'pca' in 1.2.\n",
            "\n",
            "c:\\Users\\DELL G3\\AppData\\Local\\Programs\\Python\\Python310\\lib\\site-packages\\sklearn\\manifold\\_t_sne.py:810: FutureWarning:\n",
            "\n",
            "The default learning rate in TSNE will change from 200.0 to 'auto' in 1.2.\n",
            "\n"
          ]
        },
        {
          "name": "stdout",
          "output_type": "stream",
          "text": [
            "[t-SNE] Computing 91 nearest neighbors...\n",
            "[t-SNE] Indexed 303 samples in 0.004s...\n",
            "[t-SNE] Computed neighbors for 303 samples in 0.009s...\n",
            "[t-SNE] Computed conditional probabilities for sample 303 / 303\n",
            "[t-SNE] Mean sigma: 17.057785\n",
            "[t-SNE] KL divergence after 250 iterations with early exaggeration: 61.017029\n",
            "[t-SNE] KL divergence after 850 iterations: 0.523939\n"
          ]
        },
        {
          "data": {
            "application/vnd.plotly.v1+json": {
              "config": {
                "plotlyServerURL": "https://plot.ly"
              },
              "data": [
                {
                  "hovertemplate": "0=%{x}<br>1=%{y}<extra></extra>",
                  "legendgroup": "",
                  "marker": {
                    "color": "#636efa",
                    "symbol": "circle"
                  },
                  "mode": "markers",
                  "name": "",
                  "orientation": "v",
                  "showlegend": false,
                  "type": "scatter",
                  "x": [
                    4.3326029777526855,
                    -5.723649978637695,
                    10.737488746643066,
                    -4.629026412963867,
                    4.479456424713135,
                    -2.7477362155914307,
                    -8.146422386169434,
                    -15.669394493103027,
                    -2.120325803756714,
                    7.5840535163879395,
                    10.0184326171875,
                    -11.902194023132324,
                    -2.4803061485290527,
                    -6.77812385559082,
                    7.4506049156188965,
                    9.544342994689941,
                    -2.644097328186035,
                    1.8647385835647583,
                    -5.007482051849365,
                    -6.658843994140625,
                    9.918082237243652,
                    -11.836692810058594,
                    -10.13698959350586,
                    2.0784456729888916,
                    12.854726791381836,
                    2.361513614654541,
                    -15.724713325500488,
                    11.35149097442627,
                    -0.5438847541809082,
                    16.237857818603516,
                    4.6411356925964355,
                    -3.467996597290039,
                    -14.59517765045166,
                    3.031679153442383,
                    -0.8830525279045105,
                    0.3319381773471832,
                    15.664429664611816,
                    -4.969488143920898,
                    -14.000144958496094,
                    6.732461452484131,
                    11.679612159729004,
                    5.570124626159668,
                    -14.4231538772583,
                    6.084941864013672,
                    -14.99499797821045,
                    -3.332267999649048,
                    15.58975601196289,
                    8.13248348236084,
                    -16.97405433654785,
                    8.457930564880371,
                    3.309720516204834,
                    13.209107398986816,
                    -10.061211585998535,
                    -0.24756215512752533,
                    -2.034742832183838,
                    -2.064352035522461,
                    2.0308926105499268,
                    12.52477741241455,
                    -6.118009567260742,
                    12.86291217803955,
                    -11.064563751220703,
                    10.065503120422363,
                    12.211586952209473,
                    -13.544692039489746,
                    15.644203186035156,
                    -10.33132266998291,
                    10.013144493103027,
                    1.7695708274841309,
                    -17.137107849121094,
                    2.9986000061035156,
                    -10.637735366821289,
                    -3.8391072750091553,
                    -1.7296723127365112,
                    -5.665968418121338,
                    4.114095687866211,
                    -15.337968826293945,
                    -2.268557071685791,
                    -10.71187973022461,
                    -3.4470338821411133,
                    -4.651780605316162,
                    9.597810745239258,
                    -4.028809070587158,
                    -15.548189163208008,
                    -13.225668907165527,
                    -14.99795150756836,
                    -0.42247626185417175,
                    -3.6668496131896973,
                    13.099530220031738,
                    2.4424636363983154,
                    -3.288330078125,
                    -11.726109504699707,
                    11.662668228149414,
                    5.5006842613220215,
                    10.035371780395508,
                    -3.4179794788360596,
                    -4.237311363220215,
                    1.379474401473999,
                    -1.6507526636123657,
                    7.379579067230225,
                    -0.4409637749195099,
                    -6.698241233825684,
                    6.517080307006836,
                    -12.36575984954834,
                    -0.5906231999397278,
                    12.982303619384766,
                    -13.064148902893066,
                    9.82292366027832,
                    5.193914890289307,
                    -2.6421408653259277,
                    9.568873405456543,
                    -10.74708366394043,
                    -1.4488859176635742,
                    5.381583213806152,
                    -13.346141815185547,
                    -1.3654309511184692,
                    14.121345520019531,
                    5.453615665435791,
                    7.456012725830078,
                    -11.962297439575195,
                    -1.0678563117980957,
                    -3.3676183223724365,
                    -16.556528091430664,
                    -4.851141452789307,
                    12.77200984954834,
                    -12.180673599243164,
                    -1.1390677690505981,
                    -14.140741348266602,
                    1.1882047653198242,
                    1.2803559303283691,
                    4.88922119140625,
                    -3.2767584323883057,
                    -4.99622106552124,
                    0.11009961366653442,
                    -5.305922985076904,
                    2.5741851329803467,
                    -2.9251537322998047,
                    13.985308647155762,
                    -2.629863739013672,
                    13.772900581359863,
                    -4.334601879119873,
                    3.5907063484191895,
                    -13.579069137573242,
                    4.4092488288879395,
                    -10.303177833557129,
                    -5.251087665557861,
                    -6.268115043640137,
                    -6.613014221191406,
                    -6.328474044799805,
                    -14.017520904541016,
                    -13.633682250976562,
                    -13.97361946105957,
                    -2.062765598297119,
                    -17.96582794189453,
                    -12.358360290527344,
                    -0.2767333984375,
                    -9.92191219329834,
                    -13.620052337646484,
                    -12.854663848876953,
                    -12.879319190979004,
                    -7.024192810058594,
                    2.3788578510284424,
                    -12.06101131439209,
                    2.112946033477783,
                    0.7269743084907532,
                    -5.518856525421143,
                    5.460256576538086,
                    2.4907305240631104,
                    -11.237828254699707,
                    -8.905146598815918,
                    14.376836776733398,
                    -5.168320655822754,
                    12.037012100219727,
                    5.038923740386963,
                    -16.386354446411133,
                    13.998292922973633,
                    -3.906557321548462,
                    -5.693281650543213,
                    16.32204818725586,
                    -14.083629608154297,
                    -3.3947596549987793,
                    -7.298311710357666,
                    -16.97671890258789,
                    -0.6983978748321533,
                    -12.98144817352295,
                    -14.611580848693848,
                    6.551149368286133,
                    -2.93207049369812,
                    8.307424545288086,
                    -14.865800857543945,
                    -1.377663493156433,
                    7.155673027038574,
                    -8.193408966064453,
                    -0.04694809764623642,
                    -5.016384124755859,
                    13.893692016601562,
                    -7.742196559906006,
                    7.273979663848877,
                    1.9613584280014038,
                    -4.817124366760254,
                    -5.8476881980896,
                    -6.607710838317871,
                    -16.810693740844727,
                    10.763471603393555,
                    -10.603381156921387,
                    2.2893006801605225,
                    -11.386407852172852,
                    -1.8678138256072998,
                    14.451397895812988,
                    -4.710268497467041,
                    3.778792381286621,
                    1.9505277872085571,
                    -0.8507659435272217,
                    3.1707546710968018,
                    5.3229851722717285,
                    -3.7430260181427,
                    7.778372764587402,
                    3.092432737350464,
                    1.2708899974822998,
                    -9.04592227935791,
                    -8.784021377563477,
                    -7.487285614013672,
                    -8.372889518737793,
                    3.351637125015259,
                    -2.5750582218170166,
                    -8.768073081970215,
                    0.4247516691684723,
                    10.320450782775879,
                    -12.448630332946777,
                    14.906729698181152,
                    10.898386001586914,
                    6.4389519691467285,
                    -17.707494735717773,
                    15.267251014709473,
                    -0.7824326157569885,
                    7.1989874839782715,
                    -3.6593053340911865,
                    -3.3453590869903564,
                    -0.5412293672561646,
                    -6.860525131225586,
                    -11.015165328979492,
                    -6.4545135498046875,
                    -13.493918418884277,
                    -6.558478832244873,
                    5.169450759887695,
                    16.696866989135742,
                    0.4507615864276886,
                    -4.90168571472168,
                    -2.2608933448791504,
                    3.8140602111816406,
                    12.065167427062988,
                    11.770159721374512,
                    12.622454643249512,
                    -1.413712739944458,
                    -11.268683433532715,
                    -14.752788543701172,
                    2.937624931335449,
                    9.0122652053833,
                    15.805190086364746,
                    5.769310474395752,
                    -3.1082241535186768,
                    -6.984472274780273,
                    -12.439391136169434,
                    0.8829377293586731,
                    0.3366725444793701,
                    14.351964950561523,
                    -9.58650016784668,
                    7.000561714172363,
                    11.61009693145752,
                    0.8031064867973328,
                    11.517688751220703,
                    13.626044273376465,
                    6.693251609802246,
                    -9.059868812561035,
                    15.80439281463623,
                    6.263140678405762,
                    5.642129421234131,
                    -10.701973915100098,
                    4.308663845062256,
                    2.068315029144287,
                    13.187841415405273,
                    -13.275449752807617,
                    -4.687541484832764,
                    12.971193313598633,
                    5.772944450378418,
                    6.674313545227051,
                    -12.190698623657227,
                    6.104401111602783,
                    10.184834480285645,
                    3.1393120288848877,
                    -3.747068166732788,
                    6.343826770782471,
                    -15.282979965209961,
                    13.39318561553955,
                    11.047628402709961,
                    12.512120246887207,
                    9.393136978149414,
                    17.20392417907715,
                    8.836932182312012,
                    -2.1550722122192383,
                    11.218892097473145,
                    16.023426055908203,
                    -2.0281896591186523,
                    8.421056747436523
                  ],
                  "xaxis": "x",
                  "y": [
                    0.0844377726316452,
                    12.566996574401855,
                    -1.8818433284759521,
                    -2.7645950317382812,
                    -11.455059051513672,
                    -5.607760429382324,
                    4.027000904083252,
                    14.941129684448242,
                    4.070224761962891,
                    -8.771584510803223,
                    -9.488502502441406,
                    8.554483413696289,
                    5.017112731933594,
                    -0.6799638867378235,
                    -6.641032695770264,
                    -12.893868446350098,
                    -8.62269115447998,
                    -1.1240980625152588,
                    6.263503074645996,
                    1.1585229635238647,
                    -4.11477518081665,
                    6.075891494750977,
                    8.331963539123535,
                    -6.469901084899902,
                    -4.302945137023926,
                    -8.928707122802734,
                    13.808442115783691,
                    1.0576623678207397,
                    -2.4072625637054443,
                    -9.722589492797852,
                    0.4542883336544037,
                    -7.508148193359375,
                    14.548940658569336,
                    -1.7920411825180054,
                    -5.90905237197876,
                    -5.432624816894531,
                    -8.922945022583008,
                    12.436573028564453,
                    16.23836898803711,
                    1.753708839416504,
                    1.0550388097763062,
                    -12.291316986083984,
                    6.528241157531738,
                    -6.680771827697754,
                    13.550926208496094,
                    -7.878054618835449,
                    -9.531709671020508,
                    1.7632567882537842,
                    17.090206146240234,
                    -9.709269523620605,
                    -14.150893211364746,
                    -9.995316505432129,
                    9.686009407043457,
                    -10.437347412109375,
                    4.622296333312988,
                    12.159989356994629,
                    -1.9031873941421509,
                    -12.95899772644043,
                    5.037374973297119,
                    -2.972674608230591,
                    13.504413604736328,
                    -12.193755149841309,
                    -3.1969234943389893,
                    9.641423225402832,
                    -7.727886199951172,
                    5.765753269195557,
                    -10.540335655212402,
                    -2.711108684539795,
                    8.63614273071289,
                    0.025509875267744064,
                    4.5441131591796875,
                    0.3025839328765869,
                    12.99145793914795,
                    -6.081603527069092,
                    -14.089529991149902,
                    16.206010818481445,
                    5.758811950683594,
                    13.279052734375,
                    -3.029240369796753,
                    12.043757438659668,
                    -6.560642242431641,
                    5.367497444152832,
                    11.407573699951172,
                    3.7090723514556885,
                    12.686670303344727,
                    -4.533298492431641,
                    2.4318385124206543,
                    -1.6262898445129395,
                    -1.472720742225647,
                    3.9067587852478027,
                    11.538225173950195,
                    -10.723599433898926,
                    -1.138946771621704,
                    -15.069929122924805,
                    -0.6311705112457275,
                    1.4636489152908325,
                    5.98806095123291,
                    1.641762614250183,
                    -9.645218849182129,
                    -9.765971183776855,
                    -1.910250186920166,
                    -14.371633529663086,
                    10.56938648223877,
                    9.606432914733887,
                    -8.08109188079834,
                    12.347354888916016,
                    -11.633049011230469,
                    -1.7201752662658691,
                    6.412482738494873,
                    -5.443420886993408,
                    12.51924991607666,
                    4.920161724090576,
                    -14.733613014221191,
                    16.08040428161621,
                    13.210527420043945,
                    -5.856967926025391,
                    -8.038338661193848,
                    -13.713303565979004,
                    15.671382904052734,
                    6.985781192779541,
                    3.4266016483306885,
                    17.204219818115234,
                    -10.242609977722168,
                    -0.31712496280670166,
                    6.97794246673584,
                    -5.487995624542236,
                    3.1398744583129883,
                    7.6778178215026855,
                    -10.075386047363281,
                    -9.242549896240234,
                    4.950523853302002,
                    -9.539261817932129,
                    -12.847841262817383,
                    -0.5797221660614014,
                    -10.59201717376709,
                    0.852460503578186,
                    -9.205512046813965,
                    13.265935897827148,
                    -6.981083393096924,
                    -4.124335289001465,
                    -5.923402309417725,
                    5.057968616485596,
                    -12.195451736450195,
                    15.140691757202148,
                    -7.497199535369873,
                    -7.315667629241943,
                    11.866385459899902,
                    -2.731971263885498,
                    10.675036430358887,
                    13.038524627685547,
                    7.86704158782959,
                    9.514286994934082,
                    17.261470794677734,
                    4.939627170562744,
                    13.027265548706055,
                    16.182458877563477,
                    8.838605880737305,
                    9.911080360412598,
                    8.014469146728516,
                    6.2635297775268555,
                    -14.330074310302734,
                    11.203963279724121,
                    -9.326569557189941,
                    8.303167343139648,
                    -1.7729560136795044,
                    -9.748242378234863,
                    -5.722396373748779,
                    8.43756103515625,
                    8.389884948730469,
                    -11.530790328979492,
                    11.619668960571289,
                    0.23344656825065613,
                    3.039215326309204,
                    16.660497665405273,
                    -3.798090696334839,
                    12.580918312072754,
                    -8.572205543518066,
                    -7.397746562957764,
                    11.646835327148438,
                    -2.3519680500030518,
                    2.029662847518921,
                    16.63454246520996,
                    -2.9806041717529297,
                    3.4608564376831055,
                    7.073229789733887,
                    -11.797402381896973,
                    -3.950927972793579,
                    2.9285504817962646,
                    4.883578300476074,
                    3.1462602615356445,
                    -10.644429206848145,
                    14.121397972106934,
                    3.3565385341644287,
                    14.00772762298584,
                    -2.2527058124542236,
                    16.274808883666992,
                    2.7729272842407227,
                    -0.10441155731678009,
                    -4.889245986938477,
                    11.363800048828125,
                    -5.026216983795166,
                    8.151185035705566,
                    -14.155549049377441,
                    14.523065567016602,
                    -12.349080085754395,
                    12.917720794677734,
                    6.976183891296387,
                    -5.135542869567871,
                    3.372565984725952,
                    1.2006891965866089,
                    -11.07800579071045,
                    -7.5984930992126465,
                    -10.531322479248047,
                    4.517355442047119,
                    -8.328137397766113,
                    -10.98414134979248,
                    -13.656272888183594,
                    0.4540843367576599,
                    15.258420944213867,
                    1.8974531888961792,
                    -0.8873270153999329,
                    -0.7590886354446411,
                    -14.935893058776855,
                    13.89560317993164,
                    -0.5621483325958252,
                    -12.281176567077637,
                    -6.285848617553711,
                    6.069756031036377,
                    -2.4795711040496826,
                    -3.959179162979126,
                    -10.966705322265625,
                    8.944488525390625,
                    -11.123838424682617,
                    10.66356372833252,
                    -6.983982086181641,
                    14.217533111572266,
                    13.49620532989502,
                    4.602987766265869,
                    3.0292341709136963,
                    9.780905723571777,
                    -8.09458065032959,
                    10.973177909851074,
                    2.481426239013672,
                    -0.6780104637145996,
                    -8.000213623046875,
                    13.389017105102539,
                    -8.519173622131348,
                    10.501725196838379,
                    -9.798100471496582,
                    -4.371708393096924,
                    -5.468327522277832,
                    0.4630074203014374,
                    12.45192813873291,
                    10.070411682128906,
                    10.338848114013672,
                    -11.587709426879883,
                    -3.3324711322784424,
                    -4.708613872528076,
                    2.037607192993164,
                    5.8910040855407715,
                    -6.938185214996338,
                    13.450858116149902,
                    -2.3573412895202637,
                    -8.840339660644531,
                    -9.735950469970703,
                    14.148757934570312,
                    -9.654808044433594,
                    -3.0379092693328857,
                    -4.867093086242676,
                    -11.952506065368652,
                    -4.32161808013916,
                    2.979227304458618,
                    14.243834495544434,
                    -11.0453462600708,
                    -9.2753267288208,
                    4.076740264892578,
                    5.33007287979126,
                    -3.859753370285034,
                    -2.866455554962158,
                    -5.69638204574585,
                    14.974335670471191,
                    -1.916217565536499,
                    -4.828019618988037,
                    -13.784221649169922,
                    -7.728001117706299,
                    14.661325454711914,
                    3.7842085361480713,
                    -2.9172534942626953,
                    -7.068218231201172,
                    -5.341763496398926,
                    -5.880481719970703,
                    14.37844467163086,
                    -11.759950637817383,
                    -9.451053619384766,
                    -6.083866119384766,
                    -14.85838794708252,
                    -6.434915542602539,
                    1.689276933670044,
                    8.823182106018066,
                    -8.695283889770508,
                    -11.679707527160645,
                    -4.775744438171387,
                    -13.570345878601074
                  ],
                  "yaxis": "y"
                }
              ],
              "layout": {
                "legend": {
                  "tracegroupgap": 0
                },
                "margin": {
                  "t": 60
                },
                "template": {
                  "data": {
                    "bar": [
                      {
                        "error_x": {
                          "color": "#2a3f5f"
                        },
                        "error_y": {
                          "color": "#2a3f5f"
                        },
                        "marker": {
                          "line": {
                            "color": "#E5ECF6",
                            "width": 0.5
                          },
                          "pattern": {
                            "fillmode": "overlay",
                            "size": 10,
                            "solidity": 0.2
                          }
                        },
                        "type": "bar"
                      }
                    ],
                    "barpolar": [
                      {
                        "marker": {
                          "line": {
                            "color": "#E5ECF6",
                            "width": 0.5
                          },
                          "pattern": {
                            "fillmode": "overlay",
                            "size": 10,
                            "solidity": 0.2
                          }
                        },
                        "type": "barpolar"
                      }
                    ],
                    "carpet": [
                      {
                        "aaxis": {
                          "endlinecolor": "#2a3f5f",
                          "gridcolor": "white",
                          "linecolor": "white",
                          "minorgridcolor": "white",
                          "startlinecolor": "#2a3f5f"
                        },
                        "baxis": {
                          "endlinecolor": "#2a3f5f",
                          "gridcolor": "white",
                          "linecolor": "white",
                          "minorgridcolor": "white",
                          "startlinecolor": "#2a3f5f"
                        },
                        "type": "carpet"
                      }
                    ],
                    "choropleth": [
                      {
                        "colorbar": {
                          "outlinewidth": 0,
                          "ticks": ""
                        },
                        "type": "choropleth"
                      }
                    ],
                    "contour": [
                      {
                        "colorbar": {
                          "outlinewidth": 0,
                          "ticks": ""
                        },
                        "colorscale": [
                          [
                            0,
                            "#0d0887"
                          ],
                          [
                            0.1111111111111111,
                            "#46039f"
                          ],
                          [
                            0.2222222222222222,
                            "#7201a8"
                          ],
                          [
                            0.3333333333333333,
                            "#9c179e"
                          ],
                          [
                            0.4444444444444444,
                            "#bd3786"
                          ],
                          [
                            0.5555555555555556,
                            "#d8576b"
                          ],
                          [
                            0.6666666666666666,
                            "#ed7953"
                          ],
                          [
                            0.7777777777777778,
                            "#fb9f3a"
                          ],
                          [
                            0.8888888888888888,
                            "#fdca26"
                          ],
                          [
                            1,
                            "#f0f921"
                          ]
                        ],
                        "type": "contour"
                      }
                    ],
                    "contourcarpet": [
                      {
                        "colorbar": {
                          "outlinewidth": 0,
                          "ticks": ""
                        },
                        "type": "contourcarpet"
                      }
                    ],
                    "heatmap": [
                      {
                        "colorbar": {
                          "outlinewidth": 0,
                          "ticks": ""
                        },
                        "colorscale": [
                          [
                            0,
                            "#0d0887"
                          ],
                          [
                            0.1111111111111111,
                            "#46039f"
                          ],
                          [
                            0.2222222222222222,
                            "#7201a8"
                          ],
                          [
                            0.3333333333333333,
                            "#9c179e"
                          ],
                          [
                            0.4444444444444444,
                            "#bd3786"
                          ],
                          [
                            0.5555555555555556,
                            "#d8576b"
                          ],
                          [
                            0.6666666666666666,
                            "#ed7953"
                          ],
                          [
                            0.7777777777777778,
                            "#fb9f3a"
                          ],
                          [
                            0.8888888888888888,
                            "#fdca26"
                          ],
                          [
                            1,
                            "#f0f921"
                          ]
                        ],
                        "type": "heatmap"
                      }
                    ],
                    "heatmapgl": [
                      {
                        "colorbar": {
                          "outlinewidth": 0,
                          "ticks": ""
                        },
                        "colorscale": [
                          [
                            0,
                            "#0d0887"
                          ],
                          [
                            0.1111111111111111,
                            "#46039f"
                          ],
                          [
                            0.2222222222222222,
                            "#7201a8"
                          ],
                          [
                            0.3333333333333333,
                            "#9c179e"
                          ],
                          [
                            0.4444444444444444,
                            "#bd3786"
                          ],
                          [
                            0.5555555555555556,
                            "#d8576b"
                          ],
                          [
                            0.6666666666666666,
                            "#ed7953"
                          ],
                          [
                            0.7777777777777778,
                            "#fb9f3a"
                          ],
                          [
                            0.8888888888888888,
                            "#fdca26"
                          ],
                          [
                            1,
                            "#f0f921"
                          ]
                        ],
                        "type": "heatmapgl"
                      }
                    ],
                    "histogram": [
                      {
                        "marker": {
                          "pattern": {
                            "fillmode": "overlay",
                            "size": 10,
                            "solidity": 0.2
                          }
                        },
                        "type": "histogram"
                      }
                    ],
                    "histogram2d": [
                      {
                        "colorbar": {
                          "outlinewidth": 0,
                          "ticks": ""
                        },
                        "colorscale": [
                          [
                            0,
                            "#0d0887"
                          ],
                          [
                            0.1111111111111111,
                            "#46039f"
                          ],
                          [
                            0.2222222222222222,
                            "#7201a8"
                          ],
                          [
                            0.3333333333333333,
                            "#9c179e"
                          ],
                          [
                            0.4444444444444444,
                            "#bd3786"
                          ],
                          [
                            0.5555555555555556,
                            "#d8576b"
                          ],
                          [
                            0.6666666666666666,
                            "#ed7953"
                          ],
                          [
                            0.7777777777777778,
                            "#fb9f3a"
                          ],
                          [
                            0.8888888888888888,
                            "#fdca26"
                          ],
                          [
                            1,
                            "#f0f921"
                          ]
                        ],
                        "type": "histogram2d"
                      }
                    ],
                    "histogram2dcontour": [
                      {
                        "colorbar": {
                          "outlinewidth": 0,
                          "ticks": ""
                        },
                        "colorscale": [
                          [
                            0,
                            "#0d0887"
                          ],
                          [
                            0.1111111111111111,
                            "#46039f"
                          ],
                          [
                            0.2222222222222222,
                            "#7201a8"
                          ],
                          [
                            0.3333333333333333,
                            "#9c179e"
                          ],
                          [
                            0.4444444444444444,
                            "#bd3786"
                          ],
                          [
                            0.5555555555555556,
                            "#d8576b"
                          ],
                          [
                            0.6666666666666666,
                            "#ed7953"
                          ],
                          [
                            0.7777777777777778,
                            "#fb9f3a"
                          ],
                          [
                            0.8888888888888888,
                            "#fdca26"
                          ],
                          [
                            1,
                            "#f0f921"
                          ]
                        ],
                        "type": "histogram2dcontour"
                      }
                    ],
                    "mesh3d": [
                      {
                        "colorbar": {
                          "outlinewidth": 0,
                          "ticks": ""
                        },
                        "type": "mesh3d"
                      }
                    ],
                    "parcoords": [
                      {
                        "line": {
                          "colorbar": {
                            "outlinewidth": 0,
                            "ticks": ""
                          }
                        },
                        "type": "parcoords"
                      }
                    ],
                    "pie": [
                      {
                        "automargin": true,
                        "type": "pie"
                      }
                    ],
                    "scatter": [
                      {
                        "fillpattern": {
                          "fillmode": "overlay",
                          "size": 10,
                          "solidity": 0.2
                        },
                        "type": "scatter"
                      }
                    ],
                    "scatter3d": [
                      {
                        "line": {
                          "colorbar": {
                            "outlinewidth": 0,
                            "ticks": ""
                          }
                        },
                        "marker": {
                          "colorbar": {
                            "outlinewidth": 0,
                            "ticks": ""
                          }
                        },
                        "type": "scatter3d"
                      }
                    ],
                    "scattercarpet": [
                      {
                        "marker": {
                          "colorbar": {
                            "outlinewidth": 0,
                            "ticks": ""
                          }
                        },
                        "type": "scattercarpet"
                      }
                    ],
                    "scattergeo": [
                      {
                        "marker": {
                          "colorbar": {
                            "outlinewidth": 0,
                            "ticks": ""
                          }
                        },
                        "type": "scattergeo"
                      }
                    ],
                    "scattergl": [
                      {
                        "marker": {
                          "colorbar": {
                            "outlinewidth": 0,
                            "ticks": ""
                          }
                        },
                        "type": "scattergl"
                      }
                    ],
                    "scattermapbox": [
                      {
                        "marker": {
                          "colorbar": {
                            "outlinewidth": 0,
                            "ticks": ""
                          }
                        },
                        "type": "scattermapbox"
                      }
                    ],
                    "scatterpolar": [
                      {
                        "marker": {
                          "colorbar": {
                            "outlinewidth": 0,
                            "ticks": ""
                          }
                        },
                        "type": "scatterpolar"
                      }
                    ],
                    "scatterpolargl": [
                      {
                        "marker": {
                          "colorbar": {
                            "outlinewidth": 0,
                            "ticks": ""
                          }
                        },
                        "type": "scatterpolargl"
                      }
                    ],
                    "scatterternary": [
                      {
                        "marker": {
                          "colorbar": {
                            "outlinewidth": 0,
                            "ticks": ""
                          }
                        },
                        "type": "scatterternary"
                      }
                    ],
                    "surface": [
                      {
                        "colorbar": {
                          "outlinewidth": 0,
                          "ticks": ""
                        },
                        "colorscale": [
                          [
                            0,
                            "#0d0887"
                          ],
                          [
                            0.1111111111111111,
                            "#46039f"
                          ],
                          [
                            0.2222222222222222,
                            "#7201a8"
                          ],
                          [
                            0.3333333333333333,
                            "#9c179e"
                          ],
                          [
                            0.4444444444444444,
                            "#bd3786"
                          ],
                          [
                            0.5555555555555556,
                            "#d8576b"
                          ],
                          [
                            0.6666666666666666,
                            "#ed7953"
                          ],
                          [
                            0.7777777777777778,
                            "#fb9f3a"
                          ],
                          [
                            0.8888888888888888,
                            "#fdca26"
                          ],
                          [
                            1,
                            "#f0f921"
                          ]
                        ],
                        "type": "surface"
                      }
                    ],
                    "table": [
                      {
                        "cells": {
                          "fill": {
                            "color": "#EBF0F8"
                          },
                          "line": {
                            "color": "white"
                          }
                        },
                        "header": {
                          "fill": {
                            "color": "#C8D4E3"
                          },
                          "line": {
                            "color": "white"
                          }
                        },
                        "type": "table"
                      }
                    ]
                  },
                  "layout": {
                    "annotationdefaults": {
                      "arrowcolor": "#2a3f5f",
                      "arrowhead": 0,
                      "arrowwidth": 1
                    },
                    "autotypenumbers": "strict",
                    "coloraxis": {
                      "colorbar": {
                        "outlinewidth": 0,
                        "ticks": ""
                      }
                    },
                    "colorscale": {
                      "diverging": [
                        [
                          0,
                          "#8e0152"
                        ],
                        [
                          0.1,
                          "#c51b7d"
                        ],
                        [
                          0.2,
                          "#de77ae"
                        ],
                        [
                          0.3,
                          "#f1b6da"
                        ],
                        [
                          0.4,
                          "#fde0ef"
                        ],
                        [
                          0.5,
                          "#f7f7f7"
                        ],
                        [
                          0.6,
                          "#e6f5d0"
                        ],
                        [
                          0.7,
                          "#b8e186"
                        ],
                        [
                          0.8,
                          "#7fbc41"
                        ],
                        [
                          0.9,
                          "#4d9221"
                        ],
                        [
                          1,
                          "#276419"
                        ]
                      ],
                      "sequential": [
                        [
                          0,
                          "#0d0887"
                        ],
                        [
                          0.1111111111111111,
                          "#46039f"
                        ],
                        [
                          0.2222222222222222,
                          "#7201a8"
                        ],
                        [
                          0.3333333333333333,
                          "#9c179e"
                        ],
                        [
                          0.4444444444444444,
                          "#bd3786"
                        ],
                        [
                          0.5555555555555556,
                          "#d8576b"
                        ],
                        [
                          0.6666666666666666,
                          "#ed7953"
                        ],
                        [
                          0.7777777777777778,
                          "#fb9f3a"
                        ],
                        [
                          0.8888888888888888,
                          "#fdca26"
                        ],
                        [
                          1,
                          "#f0f921"
                        ]
                      ],
                      "sequentialminus": [
                        [
                          0,
                          "#0d0887"
                        ],
                        [
                          0.1111111111111111,
                          "#46039f"
                        ],
                        [
                          0.2222222222222222,
                          "#7201a8"
                        ],
                        [
                          0.3333333333333333,
                          "#9c179e"
                        ],
                        [
                          0.4444444444444444,
                          "#bd3786"
                        ],
                        [
                          0.5555555555555556,
                          "#d8576b"
                        ],
                        [
                          0.6666666666666666,
                          "#ed7953"
                        ],
                        [
                          0.7777777777777778,
                          "#fb9f3a"
                        ],
                        [
                          0.8888888888888888,
                          "#fdca26"
                        ],
                        [
                          1,
                          "#f0f921"
                        ]
                      ]
                    },
                    "colorway": [
                      "#636efa",
                      "#EF553B",
                      "#00cc96",
                      "#ab63fa",
                      "#FFA15A",
                      "#19d3f3",
                      "#FF6692",
                      "#B6E880",
                      "#FF97FF",
                      "#FECB52"
                    ],
                    "font": {
                      "color": "#2a3f5f"
                    },
                    "geo": {
                      "bgcolor": "white",
                      "lakecolor": "white",
                      "landcolor": "#E5ECF6",
                      "showlakes": true,
                      "showland": true,
                      "subunitcolor": "white"
                    },
                    "hoverlabel": {
                      "align": "left"
                    },
                    "hovermode": "closest",
                    "mapbox": {
                      "style": "light"
                    },
                    "paper_bgcolor": "white",
                    "plot_bgcolor": "#E5ECF6",
                    "polar": {
                      "angularaxis": {
                        "gridcolor": "white",
                        "linecolor": "white",
                        "ticks": ""
                      },
                      "bgcolor": "#E5ECF6",
                      "radialaxis": {
                        "gridcolor": "white",
                        "linecolor": "white",
                        "ticks": ""
                      }
                    },
                    "scene": {
                      "xaxis": {
                        "backgroundcolor": "#E5ECF6",
                        "gridcolor": "white",
                        "gridwidth": 2,
                        "linecolor": "white",
                        "showbackground": true,
                        "ticks": "",
                        "zerolinecolor": "white"
                      },
                      "yaxis": {
                        "backgroundcolor": "#E5ECF6",
                        "gridcolor": "white",
                        "gridwidth": 2,
                        "linecolor": "white",
                        "showbackground": true,
                        "ticks": "",
                        "zerolinecolor": "white"
                      },
                      "zaxis": {
                        "backgroundcolor": "#E5ECF6",
                        "gridcolor": "white",
                        "gridwidth": 2,
                        "linecolor": "white",
                        "showbackground": true,
                        "ticks": "",
                        "zerolinecolor": "white"
                      }
                    },
                    "shapedefaults": {
                      "line": {
                        "color": "#2a3f5f"
                      }
                    },
                    "ternary": {
                      "aaxis": {
                        "gridcolor": "white",
                        "linecolor": "white",
                        "ticks": ""
                      },
                      "baxis": {
                        "gridcolor": "white",
                        "linecolor": "white",
                        "ticks": ""
                      },
                      "bgcolor": "#E5ECF6",
                      "caxis": {
                        "gridcolor": "white",
                        "linecolor": "white",
                        "ticks": ""
                      }
                    },
                    "title": {
                      "x": 0.05
                    },
                    "xaxis": {
                      "automargin": true,
                      "gridcolor": "white",
                      "linecolor": "white",
                      "ticks": "",
                      "title": {
                        "standoff": 15
                      },
                      "zerolinecolor": "white",
                      "zerolinewidth": 2
                    },
                    "yaxis": {
                      "automargin": true,
                      "gridcolor": "white",
                      "linecolor": "white",
                      "ticks": "",
                      "title": {
                        "standoff": 15
                      },
                      "zerolinecolor": "white",
                      "zerolinewidth": 2
                    }
                  }
                },
                "xaxis": {
                  "anchor": "y",
                  "domain": [
                    0,
                    1
                  ],
                  "title": {
                    "text": "0"
                  }
                },
                "yaxis": {
                  "anchor": "x",
                  "domain": [
                    0,
                    1
                  ],
                  "title": {
                    "text": "1"
                  }
                }
              }
            }
          },
          "metadata": {},
          "output_type": "display_data"
        }
      ],
      "source": [
        "tsne = TSNE(n_components=2, verbose=1, random_state=123)\n",
        "z = tsne.fit_transform(data)\n",
        "fig = px.scatter(z, x=0, y=1)\n",
        "fig.show()"
      ]
    }
  ],
  "metadata": {
    "colab": {
      "provenance": []
    },
    "kernelspec": {
      "display_name": "Python 3",
      "language": "python",
      "name": "python3"
    },
    "language_info": {
      "codemirror_mode": {
        "name": "ipython",
        "version": 3
      },
      "file_extension": ".py",
      "mimetype": "text/x-python",
      "name": "python",
      "nbconvert_exporter": "python",
      "pygments_lexer": "ipython3",
      "version": "3.10.7"
    },
    "vscode": {
      "interpreter": {
        "hash": "7a3fd3d8000e511c2f264f960d6d083f9fff204068dda31fb317937154f24c16"
      }
    }
  },
  "nbformat": 4,
  "nbformat_minor": 0
}