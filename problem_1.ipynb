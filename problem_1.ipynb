{
  "nbformat": 4,
  "nbformat_minor": 0,
  "metadata": {
    "colab": {
      "provenance": []
    },
    "kernelspec": {
      "name": "python3",
      "display_name": "Python 3"
    },
    "language_info": {
      "name": "python"
    }
  },
  "cells": [
    {
      "cell_type": "code",
      "execution_count": null,
      "metadata": {
        "colab": {
          "base_uri": "https://localhost:8080/"
        },
        "id": "Kvud7B-0xB-S",
        "outputId": "52cb89e7-2b05-4e0e-faf5-c473a91c83c3"
      },
      "outputs": [
        {
          "output_type": "stream",
          "name": "stdout",
          "text": [
            "[303.83855672 349.54842584 281.16943464 269.27743617 314.98730529\n",
            " 292.3181832  337.65642737 360.32554945]\n"
          ]
        }
      ],
      "source": [
        "#problem 1\n",
        "from sklearn.linear_model import LinearRegression\n",
        "import pandas as pd\n",
        "from sklearn.model_selection import train_test_split\n",
        "from sklearn.preprocessing import StandardScaler\n",
        "\n",
        "data=pd.read_csv(\"/content/shampoo_sales.csv\")\n",
        "data['Month'] = pd.to_datetime(data['Month'],format='%d-%m')\n",
        "y = data[\"Sales\"]\n",
        "x = data.drop(\"Sales\", axis = 1)\n",
        "\n",
        "x_train, x_test, y_train, y_test = train_test_split(x, y, test_size = 0.2, random_state = 1)\n",
        "\n",
        "scaler = StandardScaler()\n",
        "scale = scaler.fit (x_train)\n",
        "x_train = scale.transform (x_train)\n",
        "x_test = scale.transform (x_test)\n",
        "\n",
        "model = LinearRegression()\n",
        "model.fit(x_train, y_train)\n",
        "prediction = model.predict(x_test)\n",
        "\n",
        "print(prediction)"
      ]
    }
  ]
}